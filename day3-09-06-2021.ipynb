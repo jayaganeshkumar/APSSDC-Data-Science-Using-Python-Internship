{
 "metadata": {
  "language_info": {
   "codemirror_mode": {
    "name": "ipython",
    "version": 3
   },
   "file_extension": ".py",
   "mimetype": "text/x-python",
   "name": "python",
   "nbconvert_exporter": "python",
   "pygments_lexer": "ipython3",
   "version": "3.7.8"
  },
  "orig_nbformat": 2,
  "kernelspec": {
   "name": "python378jvsc74a57bd0e2fb31f127fed1e79f709faf34890f85681c06e7e30d28a328e5c7500cdf6725",
   "display_name": "Python 3.7.8 64-bit"
  }
 },
 "nbformat": 4,
 "nbformat_minor": 2,
 "cells": [
  {
   "source": [
    "# Task\n",
    "- Take last three digits of the roll number.\n",
    "    - if the value starts with '01' --> \"CSE DEPT\"\n",
    "    - elif the value starts with '11' --> \"IT DEPT\"\n",
    "    - elif the value starts with '21' --> \"ECE DEPT\"\n",
    "    - else not an SRM student\n"
   ],
   "cell_type": "markdown",
   "metadata": {}
  },
  {
   "cell_type": "code",
   "execution_count": 1,
   "metadata": {},
   "outputs": [
    {
     "output_type": "stream",
     "name": "stdout",
     "text": [
      "CSE student\n"
     ]
    }
   ],
   "source": [
    "roll_num = input(\"Enter your roll number: \")\n",
    "s = roll_num[-3:]\n",
    "if s.startswith('01'):print(\"CSE student\")\n",
    "elif s.startswith('11'):print(\"IT student\")\n",
    "elif s.startswith('21'):print(\"ECE student\")\n",
    "else:print(\"Not a SRM student\")"
   ]
  },
  {
   "cell_type": "code",
   "execution_count": null,
   "metadata": {},
   "outputs": [],
   "source": []
  }
 ]
}