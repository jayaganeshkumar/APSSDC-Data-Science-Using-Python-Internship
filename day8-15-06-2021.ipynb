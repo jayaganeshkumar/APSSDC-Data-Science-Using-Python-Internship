{
 "metadata": {
  "language_info": {
   "codemirror_mode": {
    "name": "ipython",
    "version": 3
   },
   "file_extension": ".py",
   "mimetype": "text/x-python",
   "name": "python",
   "nbconvert_exporter": "python",
   "pygments_lexer": "ipython3",
   "version": "3.7.8"
  },
  "orig_nbformat": 4,
  "kernelspec": {
   "name": "python3",
   "display_name": "Python 3.7.8 64-bit"
  },
  "interpreter": {
   "hash": "e2fb31f127fed1e79f709faf34890f85681c06e7e30d28a328e5c7500cdf6725"
  }
 },
 "nbformat": 4,
 "nbformat_minor": 2,
 "cells": [
  {
   "source": [
    "### Task 1: create a function for finding the leap years within the given range"
   ],
   "cell_type": "markdown",
   "metadata": {}
  },
  {
   "cell_type": "code",
   "execution_count": 7,
   "metadata": {},
   "outputs": [
    {
     "output_type": "stream",
     "name": "stdout",
     "text": [
      "[4, 8, 12, 16, 20, 24, 28, 32, 36, 40, 44, 48, 52, 56, 60, 64, 68, 72, 76, 80, 84, 88, 92, 96]\n"
     ]
    }
   ],
   "source": [
    "def leap_years(start, end):\n",
    "    if start <= end:\n",
    "        leap_years = [x for x in range(start, end+1) if x % 4 == 0 and x % 100 != 0 or x%400==0]\n",
    "        return leap_years\n",
    "    else:\n",
    "        return \"Check your input years again!\"\n",
    "print(leap_years(int(input('Enter start year: ')),int(input('Enter end year: '))))"
   ]
  },
  {
   "source": [
    "### Task 2: Create a function for getting the armstrong numbers within the given range"
   ],
   "cell_type": "markdown",
   "metadata": {}
  },
  {
   "cell_type": "code",
   "execution_count": 6,
   "metadata": {},
   "outputs": [
    {
     "output_type": "stream",
     "name": "stdout",
     "text": [
      "[153, 370, 371, 407]\n"
     ]
    }
   ],
   "source": [
    "def armstrongnums(start, end):\n",
    "    nums = []\n",
    "    for num in range(start, end+1):\n",
    "        sum = 0  \n",
    "        temp = num  \n",
    "        while temp > 0:  \n",
    "            digit = temp % 10  \n",
    "            sum += digit ** 3  \n",
    "            temp //= 10  \n",
    "        if num == sum:  \n",
    "            nums.append(num)\n",
    "    return nums\n",
    "print(armstrongnums(int(input(\"Enter starting number: \")),int(input(\"Enter ending number: \"))))"
   ]
  },
  {
   "source": [
    "### Task 3: Create a function for getting the prime numbers within the range"
   ],
   "cell_type": "markdown",
   "metadata": {}
  },
  {
   "cell_type": "code",
   "execution_count": 13,
   "metadata": {},
   "outputs": [
    {
     "output_type": "stream",
     "name": "stdout",
     "text": [
      "[101, 103, 107, 109, 113, 127, 131, 137, 139, 149, 151, 157, 163, 167, 173, 179, 181, 191, 193, 197, 199]\n"
     ]
    }
   ],
   "source": [
    "import math\n",
    "def prime(m, n):\n",
    "    primes = [i for i in range(m,n+1) if (math.factorial(i-1) % i == (i - 1))]\n",
    "    return primes\n",
    "print(prime(int(input('Enter the starting number: ')), int(input('Enter the ending number: '))))"
   ]
  },
  {
   "source": [
    "### Task 4: Create a function for finding the count of elements in a string"
   ],
   "cell_type": "markdown",
   "metadata": {}
  },
  {
   "cell_type": "code",
   "execution_count": 14,
   "metadata": {},
   "outputs": [
    {
     "output_type": "stream",
     "name": "stdout",
     "text": [
      "{'S': 1, 'r': 2, 'm': 1, ' ': 1, 'u': 1, 'n': 1, 'i': 2, 'v': 1, 'e': 1, 's': 1, 't': 1, 'y': 1}\n"
     ]
    }
   ],
   "source": [
    "def count_dict(string):\n",
    "    counts = dict()\n",
    "    letters = list(string)\n",
    "\n",
    "    for letter in letters:\n",
    "        if letter in counts:\n",
    "            counts[letter] += 1\n",
    "        else:\n",
    "            counts[letter] = 1\n",
    "    return counts\n",
    "\n",
    "print(count_dict(input(\"Enter a string: \")))"
   ]
  }
 ]
}