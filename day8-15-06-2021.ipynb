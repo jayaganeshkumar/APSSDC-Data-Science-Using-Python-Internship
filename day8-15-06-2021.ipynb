{
 "metadata": {
  "language_info": {
   "codemirror_mode": {
    "name": "ipython",
    "version": 3
   },
   "file_extension": ".py",
   "mimetype": "text/x-python",
   "name": "python",
   "nbconvert_exporter": "python",
   "pygments_lexer": "ipython3",
   "version": "3.7.8"
  },
  "orig_nbformat": 4,
  "kernelspec": {
   "name": "python3",
   "display_name": "Python 3.7.8 64-bit"
  },
  "interpreter": {
   "hash": "e2fb31f127fed1e79f709faf34890f85681c06e7e30d28a328e5c7500cdf6725"
  }
 },
 "nbformat": 4,
 "nbformat_minor": 2,
 "cells": [
  {
   "source": [
    "### Task 1: create a function for finding the leap years within the given range"
   ],
   "cell_type": "markdown",
   "metadata": {}
  },
  {
   "cell_type": "code",
   "execution_count": 7,
   "metadata": {},
   "outputs": [
    {
     "output_type": "stream",
     "name": "stdout",
     "text": [
      "[4, 8, 12, 16, 20, 24, 28, 32, 36, 40, 44, 48, 52, 56, 60, 64, 68, 72, 76, 80, 84, 88, 92, 96]\n"
     ]
    }
   ],
   "source": [
    "def leap_years(start, end):\n",
    "    if start <= end:\n",
    "        leap_years = [x for x in range(start, end+1) if x % 4 == 0 and x % 100 != 0 or x%400==0]\n",
    "        return leap_years\n",
    "    else:\n",
    "        return \"Check your input years again!\"\n",
    "print(leap_years(int(input('Enter start year: ')),int(input('Enter end year: '))))"
   ]
  },
  {
   "source": [
    "### Task 2: Create a function for getting the armstrong numbers within the given range"
   ],
   "cell_type": "markdown",
   "metadata": {}
  },
  {
   "cell_type": "code",
   "execution_count": 6,
   "metadata": {},
   "outputs": [
    {
     "output_type": "stream",
     "name": "stdout",
     "text": [
      "[153, 370, 371, 407]\n"
     ]
    }
   ],
   "source": [
    "def armstrongnums(start, end):\n",
    "    nums = []\n",
    "    for num in range(start, end+1):\n",
    "        sum = 0  \n",
    "        temp = num  \n",
    "        while temp > 0:  \n",
    "            digit = temp % 10  \n",
    "            sum += digit ** 3  \n",
    "            temp //= 10  \n",
    "        if num == sum:  \n",
    "            nums.append(num)\n",
    "    return nums\n",
    "print(armstrongnums(int(input(\"Enter starting number: \")),int(input(\"Enter ending number: \"))))"
   ]
  },
  {
   "source": [
    "### Task 3: Create a function for getting the prime numbers within the range"
   ],
   "cell_type": "markdown",
   "metadata": {}
  },
  {
   "cell_type": "code",
   "execution_count": null,
   "metadata": {},
   "outputs": [],
   "source": [
    "def primes(start, end):\n",
    "    "
   ]
  }
 ]
}