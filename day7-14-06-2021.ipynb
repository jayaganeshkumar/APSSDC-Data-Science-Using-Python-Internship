{
 "metadata": {
  "language_info": {
   "codemirror_mode": {
    "name": "ipython",
    "version": 3
   },
   "file_extension": ".py",
   "mimetype": "text/x-python",
   "name": "python",
   "nbconvert_exporter": "python",
   "pygments_lexer": "ipython3",
   "version": "3.7.8"
  },
  "orig_nbformat": 4,
  "kernelspec": {
   "name": "python3",
   "display_name": "Python 3.7.8 64-bit"
  },
  "interpreter": {
   "hash": "e2fb31f127fed1e79f709faf34890f85681c06e7e30d28a328e5c7500cdf6725"
  }
 },
 "nbformat": 4,
 "nbformat_minor": 2,
 "cells": [
  {
   "source": [
    "### Task 1: Write a pattern to display 4 digit numbers from list1"
   ],
   "cell_type": "markdown",
   "metadata": {}
  },
  {
   "cell_type": "code",
   "execution_count": 18,
   "metadata": {},
   "outputs": [
    {
     "output_type": "stream",
     "name": "stdout",
     "text": [
      "['5841', '1234', '8797']\n"
     ]
    }
   ],
   "source": [
    "import re\n",
    "list1 = [5841, 987654321, 453267, 1234, 675, 8797]\n",
    "# converting given integers to strings\n",
    "list1 = list(map(str,list1))\n",
    "#pattern for finding 4 digit numbers in given list\n",
    "print([i for i in list1 if re.findall('^\\d{4}$',i)])"
   ]
  },
  {
   "source": [
    "### Task 2: Validate a phone number using patterns. Try to do this task using below pattern or your own pattern"
   ],
   "cell_type": "markdown",
   "metadata": {}
  },
  {
   "cell_type": "code",
   "execution_count": 17,
   "metadata": {},
   "outputs": [
    {
     "output_type": "stream",
     "name": "stdout",
     "text": [
      "['9876543210', '8123456789', '7890123456']\n"
     ]
    }
   ],
   "source": [
    "ph_list = [9876543210, 8123456789, 7890123456, 789654, 1234567890]\n",
    "ph_list = list(map(str,ph_list))\n",
    "print([i for i in ph_list if re.findall('^[6-9]{1}[0-9]{9}', i)])"
   ]
  }
 ]
}