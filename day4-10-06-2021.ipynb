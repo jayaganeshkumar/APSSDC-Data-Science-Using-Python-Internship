{
 "metadata": {
  "language_info": {
   "codemirror_mode": {
    "name": "ipython",
    "version": 3
   },
   "file_extension": ".py",
   "mimetype": "text/x-python",
   "name": "python",
   "nbconvert_exporter": "python",
   "pygments_lexer": "ipython3",
   "version": "3.7.8"
  },
  "orig_nbformat": 4,
  "kernelspec": {
   "name": "python3",
   "display_name": "Python 3.7.8 64-bit"
  },
  "interpreter": {
   "hash": "e2fb31f127fed1e79f709faf34890f85681c06e7e30d28a328e5c7500cdf6725"
  }
 },
 "nbformat": 4,
 "nbformat_minor": 2,
 "cells": [
  {
   "source": [
    "# Task\n",
    "- Take input from user.\n",
    "- Check the length of the string even or odd.\n",
    "- If the string length is odd access one middle character.\n",
    "- If the string length is even access two middle characters."
   ],
   "cell_type": "markdown",
   "metadata": {}
  },
  {
   "cell_type": "code",
   "execution_count": 3,
   "metadata": {},
   "outputs": [
    {
     "output_type": "stream",
     "name": "stdout",
     "text": [
      "Given string:  ganesh\nLength of the string:  6\nn e\n"
     ]
    }
   ],
   "source": [
    "string = input()\n",
    "print(\"Given string: \", string)\n",
    "print(\"Length of the string: \",len(string))\n",
    "if len(string)%2 == 0:\n",
    "    print(string[len(string)//2 - 1], string[len(string)//2])\n",
    "else:\n",
    "    print(string[len(string)//2])"
   ]
  },
  {
   "cell_type": "code",
   "execution_count": 4,
   "metadata": {},
   "outputs": [
    {
     "output_type": "stream",
     "name": "stdout",
     "text": [
      "Given string:  water\nLength of the string:  5\nt\n"
     ]
    }
   ],
   "source": [
    "string = input()\n",
    "print(\"Given string: \", string)\n",
    "print(\"Length of the string: \",len(string))\n",
    "if len(string)%2 == 0:\n",
    "    print(string[len(string)//2 - 1], string[len(string)//2])\n",
    "else:\n",
    "    print(string[len(string)//2])"
   ]
  }
 ]
}