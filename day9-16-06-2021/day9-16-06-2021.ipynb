{
 "metadata": {
  "language_info": {
   "codemirror_mode": {
    "name": "ipython",
    "version": 3
   },
   "file_extension": ".py",
   "mimetype": "text/x-python",
   "name": "python",
   "nbconvert_exporter": "python",
   "pygments_lexer": "ipython3",
   "version": "3.7.8"
  },
  "orig_nbformat": 4,
  "kernelspec": {
   "name": "python3",
   "display_name": "Python 3.7.8 64-bit"
  },
  "interpreter": {
   "hash": "e2fb31f127fed1e79f709faf34890f85681c06e7e30d28a328e5c7500cdf6725"
  }
 },
 "nbformat": 4,
 "nbformat_minor": 2,
 "cells": [
  {
   "source": [
    "## Tasks"
   ],
   "cell_type": "markdown",
   "metadata": {}
  },
  {
   "source": [
    "### 1. Write a program to Calculate area of\n",
    "- area of circle : pi*(r)^2\n",
    "\n",
    "- area of Triangle : 1/2 baseheight\n",
    "\n",
    "- area of square : Side^2\n",
    "\n",
    "- area of rectangle: l*b"
   ],
   "cell_type": "markdown",
   "metadata": {}
  },
  {
   "cell_type": "code",
   "execution_count": 1,
   "metadata": {},
   "outputs": [
    {
     "output_type": "stream",
     "name": "stdout",
     "text": [
      "78.53981633974483\n"
     ]
    }
   ],
   "source": [
    "import math\n",
    "# area of circle\n",
    "def areac(rad):return math.pi*(rad**2)\n",
    "print(areac(int(input(\"Enter radius of circle: \"))))"
   ]
  },
  {
   "cell_type": "code",
   "execution_count": 2,
   "metadata": {},
   "outputs": [
    {
     "output_type": "stream",
     "name": "stdout",
     "text": [
      "20.0\n"
     ]
    }
   ],
   "source": [
    "# area of triangle\n",
    "def areat(b, h):return (b*h)/2\n",
    "print(areat(int(input(\"Enter base: \")), int(input(\"Enter height: \"))))"
   ]
  },
  {
   "cell_type": "code",
   "execution_count": 3,
   "metadata": {},
   "outputs": [
    {
     "output_type": "stream",
     "name": "stdout",
     "text": [
      "25\n"
     ]
    }
   ],
   "source": [
    "# area of square\n",
    "def areas(s):return s**2\n",
    "print(areas(int(input(\"Enter side: \"))))"
   ]
  },
  {
   "cell_type": "code",
   "execution_count": 4,
   "metadata": {},
   "outputs": [
    {
     "output_type": "stream",
     "name": "stdout",
     "text": [
      "50\n"
     ]
    }
   ],
   "source": [
    "# area of rectangle\n",
    "def arear(l,b):return l*b\n",
    "print(arear(int(input(\"Enter length: \")), int(input(\"Enter breadth: \"))))"
   ]
  },
  {
   "cell_type": "code",
   "execution_count": 8,
   "metadata": {},
   "outputs": [],
   "source": [
    "import pyttsx3\n",
    "\n",
    "pas = input(\"Enter the password: \")\n",
    "conpas = input(\"Confirm password: \")\n",
    "\n",
    "if pas == conpas:\n",
    "    spk = pyttsx3.init()\n",
    "    spk.say(\"Welcome to my world!\")\n",
    "    spk.runAndWait()\n",
    "else:\n",
    "    spk = pyttsx3.init()\n",
    "    spk.say(\"Incorrect password\")\n",
    "    spk.runAndWait()"
   ]
  },
  {
   "cell_type": "code",
   "execution_count": 1,
   "metadata": {},
   "outputs": [
    {
     "output_type": "stream",
     "name": "stdout",
     "text": [
      "Your data is in camelcase,  👍\n"
     ]
    }
   ],
   "source": [
    "import module\n",
    "module.camel_case()"
   ]
  }
 ]
}