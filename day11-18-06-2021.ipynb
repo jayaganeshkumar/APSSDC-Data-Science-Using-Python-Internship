{
 "metadata": {
  "language_info": {
   "codemirror_mode": {
    "name": "ipython",
    "version": 3
   },
   "file_extension": ".py",
   "mimetype": "text/x-python",
   "name": "python",
   "nbconvert_exporter": "python",
   "pygments_lexer": "ipython3",
   "version": "3.7.8"
  },
  "orig_nbformat": 4,
  "kernelspec": {
   "name": "python3",
   "display_name": "Python 3.7.8 64-bit"
  },
  "interpreter": {
   "hash": "e2fb31f127fed1e79f709faf34890f85681c06e7e30d28a328e5c7500cdf6725"
  }
 },
 "nbformat": 4,
 "nbformat_minor": 2,
 "cells": [
  {
   "source": [
    "### Task 1 - Write a program for getting the last five lines from the file"
   ],
   "cell_type": "markdown",
   "metadata": {}
  },
  {
   "cell_type": "code",
   "execution_count": 1,
   "metadata": {},
   "outputs": [],
   "source": [
    "f = open('file1.txt', 'w')\n",
    "f.write(\"a \\nb \\nc \\nd \\ne \\nf \\ng \\nh \\ni \\nj\")\n",
    "f.close()"
   ]
  },
  {
   "cell_type": "code",
   "execution_count": 2,
   "metadata": {},
   "outputs": [
    {
     "output_type": "stream",
     "name": "stdout",
     "text": [
      "f \n\ng \n\nh \n\ni \n\nj\n"
     ]
    }
   ],
   "source": [
    "f = open('file1.txt', 'r')\n",
    "n = int(input(\"Enter the no. of lines to read from last: \"))\n",
    "for i in f.readlines()[-n:]:\n",
    "    print(i)"
   ]
  },
  {
   "source": [
    "### Task 2 - Create a function for appending data into a file"
   ],
   "cell_type": "markdown",
   "metadata": {}
  },
  {
   "cell_type": "code",
   "execution_count": 3,
   "metadata": {},
   "outputs": [
    {
     "output_type": "stream",
     "name": "stdout",
     "text": [
      "a \nb \nc \nd \ne \nf \ng \nh \ni \nj\nk\n"
     ]
    }
   ],
   "source": [
    "def append_data(name, data):\n",
    "    with open(name, 'a+') as f:\n",
    "        f.write(\"\\n\" + data)\n",
    "        f.close()\n",
    "    with open(name, 'r') as f:\n",
    "        print(\"FIle contents after appending data: \")\n",
    "        print(f.read())\n",
    "        \n",
    "name = input(\"Enter name of the file: \")\n",
    "data = input(\"Enter data to append to the file: \")\n",
    "append_data(name, data)"
   ]
  },
  {
   "source": [
    "### Task 3 - Create a program for updating a word in the file"
   ],
   "cell_type": "markdown",
   "metadata": {}
  },
  {
   "cell_type": "code",
   "execution_count": 4,
   "metadata": {},
   "outputs": [],
   "source": [
    "import re\n",
    "data1 = input('Enter data to be replaced: ')\n",
    "data2 = input('Enter data to replace existing one: ')\n",
    "name = input(\"Enter the name of file: \")\n",
    "with open(name, 'r+') as f:\n",
    "    data = f.read()\n",
    "    data = re.sub(data1, data2, data)\n",
    "    f.seek(0)\n",
    "    f.write(data)\n",
    "    f.close()"
   ]
  },
  {
   "cell_type": "code",
   "execution_count": 5,
   "metadata": {},
   "outputs": [
    {
     "output_type": "stream",
     "name": "stdout",
     "text": [
      "A \nb \nc \nd \ne \nf \ng \nh \ni \nj\nk\n"
     ]
    }
   ],
   "source": [
    "f = open('file1.txt', 'r')\n",
    "print(f.read())"
   ]
  }
 ]
}