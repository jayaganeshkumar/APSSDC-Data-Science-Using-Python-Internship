{
 "metadata": {
  "language_info": {
   "codemirror_mode": {
    "name": "ipython",
    "version": 3
   },
   "file_extension": ".py",
   "mimetype": "text/x-python",
   "name": "python",
   "nbconvert_exporter": "python",
   "pygments_lexer": "ipython3",
   "version": "3.7.8"
  },
  "orig_nbformat": 4,
  "kernelspec": {
   "name": "python3",
   "display_name": "Python 3.7.8 64-bit"
  },
  "interpreter": {
   "hash": "e2fb31f127fed1e79f709faf34890f85681c06e7e30d28a328e5c7500cdf6725"
  }
 },
 "nbformat": 4,
 "nbformat_minor": 2,
 "cells": [
  {
   "source": [
    "## Create arrays with all the data types available in numpy\n",
    "Available data types in munpy\n",
    "\n",
    "- integer\n",
    "- boolean\n",
    "- unsigned integer\n",
    "- float\n",
    "- complex float\n",
    "- timedelta\n",
    "- datetime\n",
    "- object\n",
    "- string\n",
    "- unicode string\n",
    "- void"
   ],
   "cell_type": "markdown",
   "metadata": {}
  },
  {
   "cell_type": "code",
   "execution_count": 1,
   "metadata": {},
   "outputs": [],
   "source": [
    "import numpy as np"
   ]
  },
  {
   "cell_type": "code",
   "execution_count": 2,
   "metadata": {},
   "outputs": [
    {
     "output_type": "stream",
     "name": "stdout",
     "text": [
      "[1 2 3 4 5] int32\n"
     ]
    }
   ],
   "source": [
    "a = np.array([1,2,3,4,5])\n",
    "print(a, a.dtype)"
   ]
  },
  {
   "cell_type": "code",
   "execution_count": 3,
   "metadata": {},
   "outputs": [
    {
     "output_type": "stream",
     "name": "stdout",
     "text": [
      "[ True  True  True False False  True] bool\n"
     ]
    }
   ],
   "source": [
    "b = np.array([1,2,3,0,0,4], dtype='bool_')\n",
    "print(b, b.dtype)"
   ]
  },
  {
   "cell_type": "code",
   "execution_count": 4,
   "metadata": {},
   "outputs": [
    {
     "output_type": "stream",
     "name": "stdout",
     "text": [
      "[0 2 1 4 3 6] uint32\n"
     ]
    }
   ],
   "source": [
    "c = np.array([0,2,1,4,3,6], dtype='uint32')\n",
    "print(c,c.dtype)"
   ]
  },
  {
   "cell_type": "code",
   "execution_count": 5,
   "metadata": {},
   "outputs": [
    {
     "output_type": "stream",
     "name": "stdout",
     "text": [
      "[1. 2. 3. 4. 5. 6.] float32\n"
     ]
    }
   ],
   "source": [
    "d = np.array([1,2,3,4,5,6], dtype='float32')\n",
    "print(d,d.dtype)"
   ]
  },
  {
   "cell_type": "code",
   "execution_count": 6,
   "metadata": {},
   "outputs": [
    {
     "output_type": "stream",
     "name": "stdout",
     "text": [
      "[1.+0.j 2.+0.j 3.+0.j 4.+0.j 5.+0.j 6.+0.j] complex128\n"
     ]
    }
   ],
   "source": [
    "e = np.array([1,2,3,4,5,6], dtype='complex_')\n",
    "print(e,e.dtype)"
   ]
  },
  {
   "cell_type": "code",
   "execution_count": 7,
   "metadata": {},
   "outputs": [
    {
     "output_type": "stream",
     "name": "stdout",
     "text": [
      "1 days timedelta64[D]\n"
     ]
    }
   ],
   "source": [
    "f = np.timedelta64(1,'D')\n",
    "print(f,f.dtype)"
   ]
  },
  {
   "cell_type": "code",
   "execution_count": 8,
   "metadata": {},
   "outputs": [
    {
     "output_type": "stream",
     "name": "stdout",
     "text": [
      "['2002-05-15' '2009-07-16' '2004-03-20'] datetime64[D]\n"
     ]
    }
   ],
   "source": [
    "g = np.array(['2002-05-15','2009-07-16','2004-03-20'], dtype='datetime64')\n",
    "print(g,g.dtype)"
   ]
  },
  {
   "cell_type": "code",
   "execution_count": null,
   "metadata": {},
   "outputs": [],
   "source": []
  }
 ]
}