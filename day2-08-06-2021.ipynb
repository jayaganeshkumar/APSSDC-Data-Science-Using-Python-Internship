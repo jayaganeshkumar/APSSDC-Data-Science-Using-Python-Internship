{
 "metadata": {
  "language_info": {
   "codemirror_mode": {
    "name": "ipython",
    "version": 3
   },
   "file_extension": ".py",
   "mimetype": "text/x-python",
   "name": "python",
   "nbconvert_exporter": "python",
   "pygments_lexer": "ipython3",
   "version": "3.7.8"
  },
  "orig_nbformat": 2,
  "kernelspec": {
   "name": "python378jvsc74a57bd0e2fb31f127fed1e79f709faf34890f85681c06e7e30d28a328e5c7500cdf6725",
   "display_name": "Python 3.7.8 64-bit"
  }
 },
 "nbformat": 4,
 "nbformat_minor": 2,
 "cells": [
  {
   "source": [
    "# Write a program to check wheather the user eligible for vote or not"
   ],
   "cell_type": "markdown",
   "metadata": {}
  },
  {
   "cell_type": "code",
   "execution_count": 1,
   "metadata": {},
   "outputs": [
    {
     "output_type": "stream",
     "name": "stdout",
     "text": [
      "You are eligible\n"
     ]
    }
   ],
   "source": [
    "print(\"You are eligible\" if (int(input(\"Enter your age: \"))) >= 18 else \"You are not eligible\")"
   ]
  },
  {
   "source": [
    "# Check the given number is positive or negative"
   ],
   "cell_type": "markdown",
   "metadata": {}
  },
  {
   "cell_type": "code",
   "execution_count": 2,
   "metadata": {},
   "outputs": [
    {
     "output_type": "stream",
     "name": "stdout",
     "text": [
      "Positive Number\n"
     ]
    }
   ],
   "source": [
    "print(\"Positive Number\" if int(input(\"Enter a number: \")) > 0 else \"Negative Number\")"
   ]
  },
  {
   "source": [
    "# Check the given number is even or odd if it's even check which is divisible by 4 or not"
   ],
   "cell_type": "markdown",
   "metadata": {}
  },
  {
   "cell_type": "code",
   "execution_count": 4,
   "metadata": {},
   "outputs": [
    {
     "output_type": "stream",
     "name": "stdout",
     "text": [
      "Number is even and divisible by 4\n"
     ]
    }
   ],
   "source": [
    "n = int(input(\"Enter a number: \"))\n",
    "if n%2 == 0:\n",
    "    if(n%4 == 0):print(\"Number is even and divisible by 4\")\n",
    "    else:print(\"Number is even and not divisible by 4\")\n",
    "else:print(\"Odd Number\")"
   ]
  },
  {
   "source": [
    "# Write a program to print student grade based on persentage like distinction, pass or fail"
   ],
   "cell_type": "markdown",
   "metadata": {}
  },
  {
   "cell_type": "code",
   "execution_count": 5,
   "metadata": {},
   "outputs": [
    {
     "output_type": "stream",
     "name": "stdout",
     "text": [
      "Fail\n"
     ]
    }
   ],
   "source": [
    "percent = float(input(\"Enter your percentage: \"))\n",
    "if percent > 90:print(\"Distinction\")\n",
    "elif percent < 90  and percent > 36:print(\"Pass\")\n",
    "else:print(\"Fail\")"
   ]
  },
  {
   "source": [
    "# Check the given year is Leap or not"
   ],
   "cell_type": "markdown",
   "metadata": {}
  },
  {
   "cell_type": "code",
   "execution_count": 6,
   "metadata": {},
   "outputs": [
    {
     "output_type": "stream",
     "name": "stdout",
     "text": [
      "Leap Year\n"
     ]
    }
   ],
   "source": [
    "year = int(input(\"Enter a year: \"))\n",
    "if year % 4 == 0:\n",
    "    if year % 100 == 0:\n",
    "        if year % 400 == 0:print(\"Leap Year\")\n",
    "        else:print(\"Not a leap year\")\n",
    "    else:print(\"Leap Year\")\n",
    "else:print(\"Not a leap year\")"
   ]
  }
 ]
}